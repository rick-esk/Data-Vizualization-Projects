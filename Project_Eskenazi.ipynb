{
  "nbformat": 4,
  "nbformat_minor": 0,
  "metadata": {
    "colab": {
      "name": "Project.ipynb",
      "provenance": []
    },
    "kernelspec": {
      "name": "python3",
      "display_name": "Python 3"
    },
    "language_info": {
      "name": "python"
    }
  },
  "cells": [
    {
      "cell_type": "code",
      "execution_count": 3,
      "metadata": {
        "id": "3GUfIMAughMd",
        "colab": {
          "base_uri": "https://localhost:8080/"
        },
        "outputId": "53d74d2e-ff27-4cd1-9d9a-8084ec4de0d0"
      },
      "outputs": [
        {
          "output_type": "stream",
          "name": "stdout",
          "text": [
            "Drive already mounted at /content/drive; to attempt to forcibly remount, call drive.mount(\"/content/drive\", force_remount=True).\n"
          ]
        }
      ],
      "source": [
        "from google.colab import drive\n",
        "drive.mount('/content/drive')\n",
        "\n",
        "datadir = '/content/drive/My Drive/Notebooks/Project/'"
      ]
    },
    {
      "cell_type": "markdown",
      "source": [
        "# Setting up the data"
      ],
      "metadata": {
        "id": "JbDqOTT-e1g4"
      }
    },
    {
      "cell_type": "code",
      "source": [
        "import numpy as np\n",
        "import pandas as pd\n",
        "import matplotlib.pyplot as plt\n",
        "%matplotlib inline"
      ],
      "metadata": {
        "id": "sZp6-MYVg2uB"
      },
      "execution_count": 4,
      "outputs": []
    },
    {
      "cell_type": "code",
      "source": [
        "# read the dataset\n",
        "file_2017 = datadir + 'cos2017.csv'\n",
        "file_2018 = datadir + 'cos2018.csv'\n",
        "file_2019 = datadir + 'cos2019.csv'\n",
        "\n",
        "df_2017 = pd.read_csv(file_2017, delimiter=';')\n",
        "df_2018 = pd.read_csv(file_2018, delimiter=';')\n",
        "df_2019 = pd.read_csv(file_2019, delimiter=';')\n",
        "\n",
        "df_2017"
      ],
      "metadata": {
        "id": "dHRUPwF3hCKz",
        "colab": {
          "base_uri": "https://localhost:8080/",
          "height": 627
        },
        "outputId": "a2c893bd-1b14-458a-c256-68dd5c40982f"
      },
      "execution_count": 25,
      "outputs": [
        {
          "output_type": "execute_result",
          "data": {
            "text/plain": [
              "     rank                                            name country_of_origin  \\\n",
              "0       1                           Wal-Mart Stores, Inc.                US   \n",
              "1       2                    Costco Wholesale Corporation                US   \n",
              "2       3                                  The Kroger Co.                US   \n",
              "3       4                 Schwarz Unternehmenstreuhand KG           Germany   \n",
              "4       5                  Walgreens Boots Alliance, Inc.                US   \n",
              "..    ...                                             ...               ...   \n",
              "245   246                                        SMU S.A.             Chile   \n",
              "246   247                 American Eagle Outfitters, Inc.                US   \n",
              "247   248                         Abercrombie & Fitch Co.                US   \n",
              "248   249  Norma Lebensmittelfilialbetrieb Stiftung & Co.           Germany   \n",
              "249   250                          DCM Holdings Co., Ltd.             Japan   \n",
              "\n",
              "     retail_revenue  parent_company_revenue  parent_company_net_income  \\\n",
              "0          482130.0                482130.0                    15080.0   \n",
              "1          116199.0                116199.0                     2409.0   \n",
              "2          109830.0                109830.0                     2049.0   \n",
              "3           94448.0                 94448.0                        NaN   \n",
              "4           89631.0                103444.0                     4279.0   \n",
              "..              ...                     ...                        ...   \n",
              "245          3538.0                  3573.0                        0.0   \n",
              "246          3522.0                  3522.0                      218.0   \n",
              "247          3519.0                  3519.0                       39.0   \n",
              "248          3510.0                  3510.0                        NaN   \n",
              "249          3508.0                  3629.0                       87.0   \n",
              "\n",
              "            dominant_operational_format  countries_of_operation  \\\n",
              "0    Hypermarket/Supercenter/Superstore                      30   \n",
              "1           Cash & Carry/Warehouse Club                      10   \n",
              "2                           Supermarket                       1   \n",
              "3                        Discount Store                      26   \n",
              "4                   Drug Store/Pharmacy                      10   \n",
              "..                                  ...                     ...   \n",
              "245                         Supermarket                       2   \n",
              "246          Apparel/Footwear Specialty                      29   \n",
              "247          Apparel/Footwear Specialty                      22   \n",
              "248                      Discount Store                       4   \n",
              "249                    Home Improvement                       1   \n",
              "\n",
              "     retail_revenue_cagr  \n",
              "0                  0.027  \n",
              "1                  0.083  \n",
              "2                  0.060  \n",
              "3                  0.074  \n",
              "4                  0.059  \n",
              "..                   ...  \n",
              "245                0.168  \n",
              "246                0.035  \n",
              "247                0.003  \n",
              "248                0.033  \n",
              "249                0.005  \n",
              "\n",
              "[250 rows x 9 columns]"
            ],
            "text/html": [
              "\n",
              "  <div id=\"df-cbea6170-b142-4137-a922-013d0cc0d37d\">\n",
              "    <div class=\"colab-df-container\">\n",
              "      <div>\n",
              "<style scoped>\n",
              "    .dataframe tbody tr th:only-of-type {\n",
              "        vertical-align: middle;\n",
              "    }\n",
              "\n",
              "    .dataframe tbody tr th {\n",
              "        vertical-align: top;\n",
              "    }\n",
              "\n",
              "    .dataframe thead th {\n",
              "        text-align: right;\n",
              "    }\n",
              "</style>\n",
              "<table border=\"1\" class=\"dataframe\">\n",
              "  <thead>\n",
              "    <tr style=\"text-align: right;\">\n",
              "      <th></th>\n",
              "      <th>rank</th>\n",
              "      <th>name</th>\n",
              "      <th>country_of_origin</th>\n",
              "      <th>retail_revenue</th>\n",
              "      <th>parent_company_revenue</th>\n",
              "      <th>parent_company_net_income</th>\n",
              "      <th>dominant_operational_format</th>\n",
              "      <th>countries_of_operation</th>\n",
              "      <th>retail_revenue_cagr</th>\n",
              "    </tr>\n",
              "  </thead>\n",
              "  <tbody>\n",
              "    <tr>\n",
              "      <th>0</th>\n",
              "      <td>1</td>\n",
              "      <td>Wal-Mart Stores, Inc.</td>\n",
              "      <td>US</td>\n",
              "      <td>482130.0</td>\n",
              "      <td>482130.0</td>\n",
              "      <td>15080.0</td>\n",
              "      <td>Hypermarket/Supercenter/Superstore</td>\n",
              "      <td>30</td>\n",
              "      <td>0.027</td>\n",
              "    </tr>\n",
              "    <tr>\n",
              "      <th>1</th>\n",
              "      <td>2</td>\n",
              "      <td>Costco Wholesale Corporation</td>\n",
              "      <td>US</td>\n",
              "      <td>116199.0</td>\n",
              "      <td>116199.0</td>\n",
              "      <td>2409.0</td>\n",
              "      <td>Cash &amp; Carry/Warehouse Club</td>\n",
              "      <td>10</td>\n",
              "      <td>0.083</td>\n",
              "    </tr>\n",
              "    <tr>\n",
              "      <th>2</th>\n",
              "      <td>3</td>\n",
              "      <td>The Kroger Co.</td>\n",
              "      <td>US</td>\n",
              "      <td>109830.0</td>\n",
              "      <td>109830.0</td>\n",
              "      <td>2049.0</td>\n",
              "      <td>Supermarket</td>\n",
              "      <td>1</td>\n",
              "      <td>0.060</td>\n",
              "    </tr>\n",
              "    <tr>\n",
              "      <th>3</th>\n",
              "      <td>4</td>\n",
              "      <td>Schwarz Unternehmenstreuhand KG</td>\n",
              "      <td>Germany</td>\n",
              "      <td>94448.0</td>\n",
              "      <td>94448.0</td>\n",
              "      <td>NaN</td>\n",
              "      <td>Discount Store</td>\n",
              "      <td>26</td>\n",
              "      <td>0.074</td>\n",
              "    </tr>\n",
              "    <tr>\n",
              "      <th>4</th>\n",
              "      <td>5</td>\n",
              "      <td>Walgreens Boots Alliance, Inc.</td>\n",
              "      <td>US</td>\n",
              "      <td>89631.0</td>\n",
              "      <td>103444.0</td>\n",
              "      <td>4279.0</td>\n",
              "      <td>Drug Store/Pharmacy</td>\n",
              "      <td>10</td>\n",
              "      <td>0.059</td>\n",
              "    </tr>\n",
              "    <tr>\n",
              "      <th>...</th>\n",
              "      <td>...</td>\n",
              "      <td>...</td>\n",
              "      <td>...</td>\n",
              "      <td>...</td>\n",
              "      <td>...</td>\n",
              "      <td>...</td>\n",
              "      <td>...</td>\n",
              "      <td>...</td>\n",
              "      <td>...</td>\n",
              "    </tr>\n",
              "    <tr>\n",
              "      <th>245</th>\n",
              "      <td>246</td>\n",
              "      <td>SMU S.A.</td>\n",
              "      <td>Chile</td>\n",
              "      <td>3538.0</td>\n",
              "      <td>3573.0</td>\n",
              "      <td>0.0</td>\n",
              "      <td>Supermarket</td>\n",
              "      <td>2</td>\n",
              "      <td>0.168</td>\n",
              "    </tr>\n",
              "    <tr>\n",
              "      <th>246</th>\n",
              "      <td>247</td>\n",
              "      <td>American Eagle Outfitters, Inc.</td>\n",
              "      <td>US</td>\n",
              "      <td>3522.0</td>\n",
              "      <td>3522.0</td>\n",
              "      <td>218.0</td>\n",
              "      <td>Apparel/Footwear Specialty</td>\n",
              "      <td>29</td>\n",
              "      <td>0.035</td>\n",
              "    </tr>\n",
              "    <tr>\n",
              "      <th>247</th>\n",
              "      <td>248</td>\n",
              "      <td>Abercrombie &amp; Fitch Co.</td>\n",
              "      <td>US</td>\n",
              "      <td>3519.0</td>\n",
              "      <td>3519.0</td>\n",
              "      <td>39.0</td>\n",
              "      <td>Apparel/Footwear Specialty</td>\n",
              "      <td>22</td>\n",
              "      <td>0.003</td>\n",
              "    </tr>\n",
              "    <tr>\n",
              "      <th>248</th>\n",
              "      <td>249</td>\n",
              "      <td>Norma Lebensmittelfilialbetrieb Stiftung &amp; Co.</td>\n",
              "      <td>Germany</td>\n",
              "      <td>3510.0</td>\n",
              "      <td>3510.0</td>\n",
              "      <td>NaN</td>\n",
              "      <td>Discount Store</td>\n",
              "      <td>4</td>\n",
              "      <td>0.033</td>\n",
              "    </tr>\n",
              "    <tr>\n",
              "      <th>249</th>\n",
              "      <td>250</td>\n",
              "      <td>DCM Holdings Co., Ltd.</td>\n",
              "      <td>Japan</td>\n",
              "      <td>3508.0</td>\n",
              "      <td>3629.0</td>\n",
              "      <td>87.0</td>\n",
              "      <td>Home Improvement</td>\n",
              "      <td>1</td>\n",
              "      <td>0.005</td>\n",
              "    </tr>\n",
              "  </tbody>\n",
              "</table>\n",
              "<p>250 rows × 9 columns</p>\n",
              "</div>\n",
              "      <button class=\"colab-df-convert\" onclick=\"convertToInteractive('df-cbea6170-b142-4137-a922-013d0cc0d37d')\"\n",
              "              title=\"Convert this dataframe to an interactive table.\"\n",
              "              style=\"display:none;\">\n",
              "        \n",
              "  <svg xmlns=\"http://www.w3.org/2000/svg\" height=\"24px\"viewBox=\"0 0 24 24\"\n",
              "       width=\"24px\">\n",
              "    <path d=\"M0 0h24v24H0V0z\" fill=\"none\"/>\n",
              "    <path d=\"M18.56 5.44l.94 2.06.94-2.06 2.06-.94-2.06-.94-.94-2.06-.94 2.06-2.06.94zm-11 1L8.5 8.5l.94-2.06 2.06-.94-2.06-.94L8.5 2.5l-.94 2.06-2.06.94zm10 10l.94 2.06.94-2.06 2.06-.94-2.06-.94-.94-2.06-.94 2.06-2.06.94z\"/><path d=\"M17.41 7.96l-1.37-1.37c-.4-.4-.92-.59-1.43-.59-.52 0-1.04.2-1.43.59L10.3 9.45l-7.72 7.72c-.78.78-.78 2.05 0 2.83L4 21.41c.39.39.9.59 1.41.59.51 0 1.02-.2 1.41-.59l7.78-7.78 2.81-2.81c.8-.78.8-2.07 0-2.86zM5.41 20L4 18.59l7.72-7.72 1.47 1.35L5.41 20z\"/>\n",
              "  </svg>\n",
              "      </button>\n",
              "      \n",
              "  <style>\n",
              "    .colab-df-container {\n",
              "      display:flex;\n",
              "      flex-wrap:wrap;\n",
              "      gap: 12px;\n",
              "    }\n",
              "\n",
              "    .colab-df-convert {\n",
              "      background-color: #E8F0FE;\n",
              "      border: none;\n",
              "      border-radius: 50%;\n",
              "      cursor: pointer;\n",
              "      display: none;\n",
              "      fill: #1967D2;\n",
              "      height: 32px;\n",
              "      padding: 0 0 0 0;\n",
              "      width: 32px;\n",
              "    }\n",
              "\n",
              "    .colab-df-convert:hover {\n",
              "      background-color: #E2EBFA;\n",
              "      box-shadow: 0px 1px 2px rgba(60, 64, 67, 0.3), 0px 1px 3px 1px rgba(60, 64, 67, 0.15);\n",
              "      fill: #174EA6;\n",
              "    }\n",
              "\n",
              "    [theme=dark] .colab-df-convert {\n",
              "      background-color: #3B4455;\n",
              "      fill: #D2E3FC;\n",
              "    }\n",
              "\n",
              "    [theme=dark] .colab-df-convert:hover {\n",
              "      background-color: #434B5C;\n",
              "      box-shadow: 0px 1px 3px 1px rgba(0, 0, 0, 0.15);\n",
              "      filter: drop-shadow(0px 1px 2px rgba(0, 0, 0, 0.3));\n",
              "      fill: #FFFFFF;\n",
              "    }\n",
              "  </style>\n",
              "\n",
              "      <script>\n",
              "        const buttonEl =\n",
              "          document.querySelector('#df-cbea6170-b142-4137-a922-013d0cc0d37d button.colab-df-convert');\n",
              "        buttonEl.style.display =\n",
              "          google.colab.kernel.accessAllowed ? 'block' : 'none';\n",
              "\n",
              "        async function convertToInteractive(key) {\n",
              "          const element = document.querySelector('#df-cbea6170-b142-4137-a922-013d0cc0d37d');\n",
              "          const dataTable =\n",
              "            await google.colab.kernel.invokeFunction('convertToInteractive',\n",
              "                                                     [key], {});\n",
              "          if (!dataTable) return;\n",
              "\n",
              "          const docLinkHtml = 'Like what you see? Visit the ' +\n",
              "            '<a target=\"_blank\" href=https://colab.research.google.com/notebooks/data_table.ipynb>data table notebook</a>'\n",
              "            + ' to learn more about interactive tables.';\n",
              "          element.innerHTML = '';\n",
              "          dataTable['output_type'] = 'display_data';\n",
              "          await google.colab.output.renderOutput(dataTable, element);\n",
              "          const docLink = document.createElement('div');\n",
              "          docLink.innerHTML = docLinkHtml;\n",
              "          element.appendChild(docLink);\n",
              "        }\n",
              "      </script>\n",
              "    </div>\n",
              "  </div>\n",
              "  "
            ]
          },
          "metadata": {},
          "execution_count": 25
        }
      ]
    },
    {
      "cell_type": "markdown",
      "source": [
        "# Question 1"
      ],
      "metadata": {
        "id": "FSY0Hw_xejDZ"
      }
    },
    {
      "cell_type": "markdown",
      "source": [
        "How was the performance of a certain brand through the years?"
      ],
      "metadata": {
        "id": "iF_11I_dwVS1"
      }
    },
    {
      "cell_type": "code",
      "source": [
        "def func(names):\n",
        "\n",
        "  index1=df_2017.index[df_2017['name']== names].tolist()\n",
        "  index2=df_2018.index[df_2018['name']==names].tolist()\n",
        "  index3=df_2019.index[df_2019['name']==names].tolist()\n",
        "  y = index1+index2+index3\n",
        "  f_2017 = df_2017[df_2017.name == names].loc[index1, 'retail_revenue'].values\n",
        "  f_2018 = df_2018[df_2018.name == names].loc[index2, 'retail_revenue'].values\n",
        "  f_2019 = df_2019[df_2019.name == names].loc[index3, 'retail_revenue'].values\n",
        "  y= np.array\n",
        "  y= np.concatenate([f_2017, f_2018, f_2019])\n",
        "\n",
        "  x= [2017,2018,2019]\n",
        "  plt.plot(x,y, color=\"r\", linewidth=3)\n",
        "  plt.bar(x,y)\n",
        "  plt.ylabel(\"Revenue ($)\")\n",
        "  plt.xticks(x, x)\n",
        "  "
      ],
      "metadata": {
        "id": "GwkEymE8m0wg"
      },
      "execution_count": 50,
      "outputs": []
    },
    {
      "cell_type": "markdown",
      "source": [
        "We can see here that we just need to enter the name of the brand we want to search and the plot will be made accordingly"
      ],
      "metadata": {
        "id": "I8yZu99lALZr"
      }
    },
    {
      "cell_type": "code",
      "source": [
        "func('Amazon.com, Inc.')"
      ],
      "metadata": {
        "id": "zIJP0Q1Gbu4i",
        "colab": {
          "base_uri": "https://localhost:8080/",
          "height": 265
        },
        "outputId": "f7b1ca79-a4bd-4edb-c13b-54eed8f02e0c"
      },
      "execution_count": 51,
      "outputs": [
        {
          "output_type": "display_data",
          "data": {
            "text/plain": [
              "<Figure size 432x288 with 1 Axes>"
            ],
            "image/png": "[encoded data removed]"
          },
          "metadata": {
            "needs_background": "light"
          }
        }
      ]
    },
    {
      "cell_type": "markdown",
      "source": [
        "# Question 2"
      ],
      "metadata": {
        "id": "lf0AqvV2eqt2"
      }
    },
    {
      "cell_type": "markdown",
      "source": [
        "Which countries have more companies or retailers originated in their own country around the world?"
      ],
      "metadata": {
        "id": "EuDwvkpXwjKe"
      }
    },
    {
      "cell_type": "code",
      "source": [
        "filter = df_2017.groupby(['country_of_origin']).count()\n",
        "cols = list(df_2017.columns)\n",
        "newcols = cols[:1]\n",
        "frame = filter[newcols]\n",
        "frame = frame.rename(columns={'rank': 'count'})\n",
        "result = frame.sort_values(by=['count'], ascending=False)"
      ],
      "metadata": {
        "id": "t72HC30nnivI"
      },
      "execution_count": 44,
      "outputs": []
    },
    {
      "cell_type": "code",
      "source": [
        "a = result.head()\n",
        "a.plot(kind='bar', rot=0)"
      ],
      "metadata": {
        "id": "ZsUEj23jvE6e",
        "colab": {
          "base_uri": "https://localhost:8080/",
          "height": 298
        },
        "outputId": "9979250e-f6e5-4f1f-f3a7-0ed49c8f1428"
      },
      "execution_count": 48,
      "outputs": [
        {
          "output_type": "execute_result",
          "data": {
            "text/plain": [
              "<matplotlib.axes._subplots.AxesSubplot at 0x7f834e4dd610>"
            ]
          },
          "metadata": {},
          "execution_count": 48
        },
        {
          "output_type": "display_data",
          "data": {
            "text/plain": [
              "<Figure size 432x288 with 1 Axes>"
            ],
            "image/png": "[encoded data removed]"
          },
          "metadata": {
            "needs_background": "light"
          }
        }
      ]
    },
    {
      "cell_type": "code",
      "source": [
        "result.head(1)"
      ],
      "metadata": {
        "colab": {
          "base_uri": "https://localhost:8080/",
          "height": 112
        },
        "id": "j92RGGm-1NsC",
        "outputId": "7d71069b-646f-4563-c4f8-d54a215ed350"
      },
      "execution_count": 49,
      "outputs": [
        {
          "output_type": "execute_result",
          "data": {
            "text/plain": [
              "                   count\n",
              "country_of_origin       \n",
              "US                    81"
            ],
            "text/html": [
              "\n",
              "  <div id=\"df-03ec4772-f39d-48b7-a086-e0a2f6d2466a\">\n",
              "    <div class=\"colab-df-container\">\n",
              "      <div>\n",
              "<style scoped>\n",
              "    .dataframe tbody tr th:only-of-type {\n",
              "        vertical-align: middle;\n",
              "    }\n",
              "\n",
              "    .dataframe tbody tr th {\n",
              "        vertical-align: top;\n",
              "    }\n",
              "\n",
              "    .dataframe thead th {\n",
              "        text-align: right;\n",
              "    }\n",
              "</style>\n",
              "<table border=\"1\" class=\"dataframe\">\n",
              "  <thead>\n",
              "    <tr style=\"text-align: right;\">\n",
              "      <th></th>\n",
              "      <th>count</th>\n",
              "    </tr>\n",
              "    <tr>\n",
              "      <th>country_of_origin</th>\n",
              "      <th></th>\n",
              "    </tr>\n",
              "  </thead>\n",
              "  <tbody>\n",
              "    <tr>\n",
              "      <th>US</th>\n",
              "      <td>81</td>\n",
              "    </tr>\n",
              "  </tbody>\n",
              "</table>\n",
              "</div>\n",
              "      <button class=\"colab-df-convert\" onclick=\"convertToInteractive('df-03ec4772-f39d-48b7-a086-e0a2f6d2466a')\"\n",
              "              title=\"Convert this dataframe to an interactive table.\"\n",
              "              style=\"display:none;\">\n",
              "        \n",
              "  <svg xmlns=\"http://www.w3.org/2000/svg\" height=\"24px\"viewBox=\"0 0 24 24\"\n",
              "       width=\"24px\">\n",
              "    <path d=\"M0 0h24v24H0V0z\" fill=\"none\"/>\n",
              "    <path d=\"M18.56 5.44l.94 2.06.94-2.06 2.06-.94-2.06-.94-.94-2.06-.94 2.06-2.06.94zm-11 1L8.5 8.5l.94-2.06 2.06-.94-2.06-.94L8.5 2.5l-.94 2.06-2.06.94zm10 10l.94 2.06.94-2.06 2.06-.94-2.06-.94-.94-2.06-.94 2.06-2.06.94z\"/><path d=\"M17.41 7.96l-1.37-1.37c-.4-.4-.92-.59-1.43-.59-.52 0-1.04.2-1.43.59L10.3 9.45l-7.72 7.72c-.78.78-.78 2.05 0 2.83L4 21.41c.39.39.9.59 1.41.59.51 0 1.02-.2 1.41-.59l7.78-7.78 2.81-2.81c.8-.78.8-2.07 0-2.86zM5.41 20L4 18.59l7.72-7.72 1.47 1.35L5.41 20z\"/>\n",
              "  </svg>\n",
              "      </button>\n",
              "      \n",
              "  <style>\n",
              "    .colab-df-container {\n",
              "      display:flex;\n",
              "      flex-wrap:wrap;\n",
              "      gap: 12px;\n",
              "    }\n",
              "\n",
              "    .colab-df-convert {\n",
              "      background-color: #E8F0FE;\n",
              "      border: none;\n",
              "      border-radius: 50%;\n",
              "      cursor: pointer;\n",
              "      display: none;\n",
              "      fill: #1967D2;\n",
              "      height: 32px;\n",
              "      padding: 0 0 0 0;\n",
              "      width: 32px;\n",
              "    }\n",
              "\n",
              "    .colab-df-convert:hover {\n",
              "      background-color: #E2EBFA;\n",
              "      box-shadow: 0px 1px 2px rgba(60, 64, 67, 0.3), 0px 1px 3px 1px rgba(60, 64, 67, 0.15);\n",
              "      fill: #174EA6;\n",
              "    }\n",
              "\n",
              "    [theme=dark] .colab-df-convert {\n",
              "      background-color: #3B4455;\n",
              "      fill: #D2E3FC;\n",
              "    }\n",
              "\n",
              "    [theme=dark] .colab-df-convert:hover {\n",
              "      background-color: #434B5C;\n",
              "      box-shadow: 0px 1px 3px 1px rgba(0, 0, 0, 0.15);\n",
              "      filter: drop-shadow(0px 1px 2px rgba(0, 0, 0, 0.3));\n",
              "      fill: #FFFFFF;\n",
              "    }\n",
              "  </style>\n",
              "\n",
              "      <script>\n",
              "        const buttonEl =\n",
              "          document.querySelector('#df-03ec4772-f39d-48b7-a086-e0a2f6d2466a button.colab-df-convert');\n",
              "        buttonEl.style.display =\n",
              "          google.colab.kernel.accessAllowed ? 'block' : 'none';\n",
              "\n",
              "        async function convertToInteractive(key) {\n",
              "          const element = document.querySelector('#df-03ec4772-f39d-48b7-a086-e0a2f6d2466a');\n",
              "          const dataTable =\n",
              "            await google.colab.kernel.invokeFunction('convertToInteractive',\n",
              "                                                     [key], {});\n",
              "          if (!dataTable) return;\n",
              "\n",
              "          const docLinkHtml = 'Like what you see? Visit the ' +\n",
              "            '<a target=\"_blank\" href=https://colab.research.google.com/notebooks/data_table.ipynb>data table notebook</a>'\n",
              "            + ' to learn more about interactive tables.';\n",
              "          element.innerHTML = '';\n",
              "          dataTable['output_type'] = 'display_data';\n",
              "          await google.colab.output.renderOutput(dataTable, element);\n",
              "          const docLink = document.createElement('div');\n",
              "          docLink.innerHTML = docLinkHtml;\n",
              "          element.appendChild(docLink);\n",
              "        }\n",
              "      </script>\n",
              "    </div>\n",
              "  </div>\n",
              "  "
            ]
          },
          "metadata": {},
          "execution_count": 49
        }
      ]
    },
    {
      "cell_type": "code",
      "source": [
        "a = result.head(10)\n",
        "a.plot.pie(y='count', figsize=(5, 5),  ylabel='', autopct='%1.1f%%', title='Quantity of retailers depending on country: 2017').get_legend().remove()"
      ],
      "metadata": {
        "id": "dkzP9wSpKOEA",
        "colab": {
          "base_uri": "https://localhost:8080/",
          "height": 319
        },
        "outputId": "a752e76a-6cc9-4512-d514-9c224819a3c4"
      },
      "execution_count": 12,
      "outputs": [
        {
          "output_type": "display_data",
          "data": {
            "text/plain": [
              "<Figure size 360x360 with 1 Axes>"
            ],
            "image/png": "[encoded data removed]"
          },
          "metadata": {}
        }
      ]
    },
    {
      "cell_type": "markdown",
      "source": [
        "We can conclude the United States has 81 American brands around the world, this being the 43.5% of the Global 250 top retailers"
      ],
      "metadata": {
        "id": "DLYbIFFw0_VC"
      }
    },
    {
      "cell_type": "markdown",
      "source": [
        "# Question 3"
      ],
      "metadata": {
        "id": "uNTeD8MP9td7"
      }
    },
    {
      "cell_type": "markdown",
      "source": [
        "What retailer has its brand operating in more countries?"
      ],
      "metadata": {
        "id": "qwZKNRWy92o7"
      }
    },
    {
      "cell_type": "code",
      "source": [
        "result = df_2019.sort_values(by=['countries_of_operation'], ascending=False)\n",
        "a = result.head(10)\n",
        "a.plot.bar(x='name', y= 'countries_of_operation')"
      ],
      "metadata": {
        "id": "U9n2oEQ4-vlu",
        "colab": {
          "base_uri": "https://localhost:8080/",
          "height": 564
        },
        "outputId": "e64880f6-d06d-4dfd-9e41-efab12ccf3a0"
      },
      "execution_count": 37,
      "outputs": [
        {
          "output_type": "execute_result",
          "data": {
            "text/plain": [
              "             name  countries_of_operation\n",
              "34  Inditex, S.A.                      96\n",
              "97    Kering S.A.                      95"
            ],
            "text/html": [
              "\n",
              "  <div id=\"df-0da6495e-575e-4608-bbaa-0ff0c52c3597\">\n",
              "    <div class=\"colab-df-container\">\n",
              "      <div>\n",
              "<style scoped>\n",
              "    .dataframe tbody tr th:only-of-type {\n",
              "        vertical-align: middle;\n",
              "    }\n",
              "\n",
              "    .dataframe tbody tr th {\n",
              "        vertical-align: top;\n",
              "    }\n",
              "\n",
              "    .dataframe thead th {\n",
              "        text-align: right;\n",
              "    }\n",
              "</style>\n",
              "<table border=\"1\" class=\"dataframe\">\n",
              "  <thead>\n",
              "    <tr style=\"text-align: right;\">\n",
              "      <th></th>\n",
              "      <th>name</th>\n",
              "      <th>countries_of_operation</th>\n",
              "    </tr>\n",
              "  </thead>\n",
              "  <tbody>\n",
              "    <tr>\n",
              "      <th>34</th>\n",
              "      <td>Inditex, S.A.</td>\n",
              "      <td>96</td>\n",
              "    </tr>\n",
              "    <tr>\n",
              "      <th>97</th>\n",
              "      <td>Kering S.A.</td>\n",
              "      <td>95</td>\n",
              "    </tr>\n",
              "  </tbody>\n",
              "</table>\n",
              "</div>\n",
              "      <button class=\"colab-df-convert\" onclick=\"convertToInteractive('df-0da6495e-575e-4608-bbaa-0ff0c52c3597')\"\n",
              "              title=\"Convert this dataframe to an interactive table.\"\n",
              "              style=\"display:none;\">\n",
              "        \n",
              "  <svg xmlns=\"http://www.w3.org/2000/svg\" height=\"24px\"viewBox=\"0 0 24 24\"\n",
              "       width=\"24px\">\n",
              "    <path d=\"M0 0h24v24H0V0z\" fill=\"none\"/>\n",
              "    <path d=\"M18.56 5.44l.94 2.06.94-2.06 2.06-.94-2.06-.94-.94-2.06-.94 2.06-2.06.94zm-11 1L8.5 8.5l.94-2.06 2.06-.94-2.06-.94L8.5 2.5l-.94 2.06-2.06.94zm10 10l.94 2.06.94-2.06 2.06-.94-2.06-.94-.94-2.06-.94 2.06-2.06.94z\"/><path d=\"M17.41 7.96l-1.37-1.37c-.4-.4-.92-.59-1.43-.59-.52 0-1.04.2-1.43.59L10.3 9.45l-7.72 7.72c-.78.78-.78 2.05 0 2.83L4 21.41c.39.39.9.59 1.41.59.51 0 1.02-.2 1.41-.59l7.78-7.78 2.81-2.81c.8-.78.8-2.07 0-2.86zM5.41 20L4 18.59l7.72-7.72 1.47 1.35L5.41 20z\"/>\n",
              "  </svg>\n",
              "      </button>\n",
              "      \n",
              "  <style>\n",
              "    .colab-df-container {\n",
              "      display:flex;\n",
              "      flex-wrap:wrap;\n",
              "      gap: 12px;\n",
              "    }\n",
              "\n",
              "    .colab-df-convert {\n",
              "      background-color: #E8F0FE;\n",
              "      border: none;\n",
              "      border-radius: 50%;\n",
              "      cursor: pointer;\n",
              "      display: none;\n",
              "      fill: #1967D2;\n",
              "      height: 32px;\n",
              "      padding: 0 0 0 0;\n",
              "      width: 32px;\n",
              "    }\n",
              "\n",
              "    .colab-df-convert:hover {\n",
              "      background-color: #E2EBFA;\n",
              "      box-shadow: 0px 1px 2px rgba(60, 64, 67, 0.3), 0px 1px 3px 1px rgba(60, 64, 67, 0.15);\n",
              "      fill: #174EA6;\n",
              "    }\n",
              "\n",
              "    [theme=dark] .colab-df-convert {\n",
              "      background-color: #3B4455;\n",
              "      fill: #D2E3FC;\n",
              "    }\n",
              "\n",
              "    [theme=dark] .colab-df-convert:hover {\n",
              "      background-color: #434B5C;\n",
              "      box-shadow: 0px 1px 3px 1px rgba(0, 0, 0, 0.15);\n",
              "      filter: drop-shadow(0px 1px 2px rgba(0, 0, 0, 0.3));\n",
              "      fill: #FFFFFF;\n",
              "    }\n",
              "  </style>\n",
              "\n",
              "      <script>\n",
              "        const buttonEl =\n",
              "          document.querySelector('#df-0da6495e-575e-4608-bbaa-0ff0c52c3597 button.colab-df-convert');\n",
              "        buttonEl.style.display =\n",
              "          google.colab.kernel.accessAllowed ? 'block' : 'none';\n",
              "\n",
              "        async function convertToInteractive(key) {\n",
              "          const element = document.querySelector('#df-0da6495e-575e-4608-bbaa-0ff0c52c3597');\n",
              "          const dataTable =\n",
              "            await google.colab.kernel.invokeFunction('convertToInteractive',\n",
              "                                                     [key], {});\n",
              "          if (!dataTable) return;\n",
              "\n",
              "          const docLinkHtml = 'Like what you see? Visit the ' +\n",
              "            '<a target=\"_blank\" href=https://colab.research.google.com/notebooks/data_table.ipynb>data table notebook</a>'\n",
              "            + ' to learn more about interactive tables.';\n",
              "          element.innerHTML = '';\n",
              "          dataTable['output_type'] = 'display_data';\n",
              "          await google.colab.output.renderOutput(dataTable, element);\n",
              "          const docLink = document.createElement('div');\n",
              "          docLink.innerHTML = docLinkHtml;\n",
              "          element.appendChild(docLink);\n",
              "        }\n",
              "      </script>\n",
              "    </div>\n",
              "  </div>\n",
              "  "
            ]
          },
          "metadata": {},
          "execution_count": 37
        },
        {
          "output_type": "display_data",
          "data": {
            "text/plain": [
              "<Figure size 432x288 with 1 Axes>"
            ],
            "image/png": "[encoded data removed]"
          },
          "metadata": {
            "needs_background": "light"
          }
        }
      ]
    },
    {
      "cell_type": "markdown",
      "source": [
        "As we can see Inditex S.A. and Kering S.A. are the companies which have their brand most present in countries of the world, but we cant distinguish if they have the same amount or Inditex is operating in more countries"
      ],
      "metadata": {
        "id": "q0bVdwlJ0K4R"
      }
    },
    {
      "cell_type": "code",
      "source": [
        "a[['name','countries_of_operation']].head(2)"
      ],
      "metadata": {
        "colab": {
          "base_uri": "https://localhost:8080/",
          "height": 112
        },
        "id": "TYPZaehU0uhp",
        "outputId": "4bd88588-e24f-476b-f8e7-234a3c06618a"
      },
      "execution_count": 38,
      "outputs": [
        {
          "output_type": "execute_result",
          "data": {
            "text/plain": [
              "             name  countries_of_operation\n",
              "34  Inditex, S.A.                      96\n",
              "97    Kering S.A.                      95"
            ],
            "text/html": [
              "\n",
              "  <div id=\"df-aec6f023-9d76-4316-a810-431a324ae7a5\">\n",
              "    <div class=\"colab-df-container\">\n",
              "      <div>\n",
              "<style scoped>\n",
              "    .dataframe tbody tr th:only-of-type {\n",
              "        vertical-align: middle;\n",
              "    }\n",
              "\n",
              "    .dataframe tbody tr th {\n",
              "        vertical-align: top;\n",
              "    }\n",
              "\n",
              "    .dataframe thead th {\n",
              "        text-align: right;\n",
              "    }\n",
              "</style>\n",
              "<table border=\"1\" class=\"dataframe\">\n",
              "  <thead>\n",
              "    <tr style=\"text-align: right;\">\n",
              "      <th></th>\n",
              "      <th>name</th>\n",
              "      <th>countries_of_operation</th>\n",
              "    </tr>\n",
              "  </thead>\n",
              "  <tbody>\n",
              "    <tr>\n",
              "      <th>34</th>\n",
              "      <td>Inditex, S.A.</td>\n",
              "      <td>96</td>\n",
              "    </tr>\n",
              "    <tr>\n",
              "      <th>97</th>\n",
              "      <td>Kering S.A.</td>\n",
              "      <td>95</td>\n",
              "    </tr>\n",
              "  </tbody>\n",
              "</table>\n",
              "</div>\n",
              "      <button class=\"colab-df-convert\" onclick=\"convertToInteractive('df-aec6f023-9d76-4316-a810-431a324ae7a5')\"\n",
              "              title=\"Convert this dataframe to an interactive table.\"\n",
              "              style=\"display:none;\">\n",
              "        \n",
              "  <svg xmlns=\"http://www.w3.org/2000/svg\" height=\"24px\"viewBox=\"0 0 24 24\"\n",
              "       width=\"24px\">\n",
              "    <path d=\"M0 0h24v24H0V0z\" fill=\"none\"/>\n",
              "    <path d=\"M18.56 5.44l.94 2.06.94-2.06 2.06-.94-2.06-.94-.94-2.06-.94 2.06-2.06.94zm-11 1L8.5 8.5l.94-2.06 2.06-.94-2.06-.94L8.5 2.5l-.94 2.06-2.06.94zm10 10l.94 2.06.94-2.06 2.06-.94-2.06-.94-.94-2.06-.94 2.06-2.06.94z\"/><path d=\"M17.41 7.96l-1.37-1.37c-.4-.4-.92-.59-1.43-.59-.52 0-1.04.2-1.43.59L10.3 9.45l-7.72 7.72c-.78.78-.78 2.05 0 2.83L4 21.41c.39.39.9.59 1.41.59.51 0 1.02-.2 1.41-.59l7.78-7.78 2.81-2.81c.8-.78.8-2.07 0-2.86zM5.41 20L4 18.59l7.72-7.72 1.47 1.35L5.41 20z\"/>\n",
              "  </svg>\n",
              "      </button>\n",
              "      \n",
              "  <style>\n",
              "    .colab-df-container {\n",
              "      display:flex;\n",
              "      flex-wrap:wrap;\n",
              "      gap: 12px;\n",
              "    }\n",
              "\n",
              "    .colab-df-convert {\n",
              "      background-color: #E8F0FE;\n",
              "      border: none;\n",
              "      border-radius: 50%;\n",
              "      cursor: pointer;\n",
              "      display: none;\n",
              "      fill: #1967D2;\n",
              "      height: 32px;\n",
              "      padding: 0 0 0 0;\n",
              "      width: 32px;\n",
              "    }\n",
              "\n",
              "    .colab-df-convert:hover {\n",
              "      background-color: #E2EBFA;\n",
              "      box-shadow: 0px 1px 2px rgba(60, 64, 67, 0.3), 0px 1px 3px 1px rgba(60, 64, 67, 0.15);\n",
              "      fill: #174EA6;\n",
              "    }\n",
              "\n",
              "    [theme=dark] .colab-df-convert {\n",
              "      background-color: #3B4455;\n",
              "      fill: #D2E3FC;\n",
              "    }\n",
              "\n",
              "    [theme=dark] .colab-df-convert:hover {\n",
              "      background-color: #434B5C;\n",
              "      box-shadow: 0px 1px 3px 1px rgba(0, 0, 0, 0.15);\n",
              "      filter: drop-shadow(0px 1px 2px rgba(0, 0, 0, 0.3));\n",
              "      fill: #FFFFFF;\n",
              "    }\n",
              "  </style>\n",
              "\n",
              "      <script>\n",
              "        const buttonEl =\n",
              "          document.querySelector('#df-aec6f023-9d76-4316-a810-431a324ae7a5 button.colab-df-convert');\n",
              "        buttonEl.style.display =\n",
              "          google.colab.kernel.accessAllowed ? 'block' : 'none';\n",
              "\n",
              "        async function convertToInteractive(key) {\n",
              "          const element = document.querySelector('#df-aec6f023-9d76-4316-a810-431a324ae7a5');\n",
              "          const dataTable =\n",
              "            await google.colab.kernel.invokeFunction('convertToInteractive',\n",
              "                                                     [key], {});\n",
              "          if (!dataTable) return;\n",
              "\n",
              "          const docLinkHtml = 'Like what you see? Visit the ' +\n",
              "            '<a target=\"_blank\" href=https://colab.research.google.com/notebooks/data_table.ipynb>data table notebook</a>'\n",
              "            + ' to learn more about interactive tables.';\n",
              "          element.innerHTML = '';\n",
              "          dataTable['output_type'] = 'display_data';\n",
              "          await google.colab.output.renderOutput(dataTable, element);\n",
              "          const docLink = document.createElement('div');\n",
              "          docLink.innerHTML = docLinkHtml;\n",
              "          element.appendChild(docLink);\n",
              "        }\n",
              "      </script>\n",
              "    </div>\n",
              "  </div>\n",
              "  "
            ]
          },
          "metadata": {},
          "execution_count": 38
        }
      ]
    },
    {
      "cell_type": "markdown",
      "source": [
        "As we can see, Inditex is indeed operating in more countries"
      ],
      "metadata": {
        "id": "T1LhI8GE0wjs"
      }
    },
    {
      "cell_type": "markdown",
      "source": [
        "# Question 4"
      ],
      "metadata": {
        "id": "x_OIHYfHBLTw"
      }
    },
    {
      "cell_type": "markdown",
      "source": [
        "What brand earned the most revenue through the years?"
      ],
      "metadata": {
        "id": "y1rRBDqeBRTj"
      }
    },
    {
      "cell_type": "code",
      "source": [
        "def concatenate(yr1, yr2):\n",
        "    years = range(yr1, yr2+1)\n",
        "    pieces = []   \n",
        "    columns = ['name', 'retail_revenue']\n",
        "    for year in years:\n",
        "        path = datadir +\"cos\"+ str(year) + '.csv'\n",
        "        frame = pd.read_csv(path, delimiter=';')\n",
        "        frame['year'] = year   \n",
        "        pieces.append(frame)\n",
        "    return pd.concat(pieces, ignore_index=True)  \n",
        "\n",
        "df = concatenate(2017, 2019)\n",
        "df"
      ],
      "metadata": {
        "id": "2oZZEqqADWin",
        "colab": {
          "base_uri": "https://localhost:8080/",
          "height": 574
        },
        "outputId": "2575db73-92bd-4fbb-9e0a-11ce5815f6b8"
      },
      "execution_count": 19,
      "outputs": [
        {
          "output_type": "execute_result",
          "data": {
            "text/plain": [
              "     rank                             name country_of_origin  retail_revenue  \\\n",
              "0       1            Wal-Mart Stores, Inc.                US        482130.0   \n",
              "1       2     Costco Wholesale Corporation                US        116199.0   \n",
              "2       3                   The Kroger Co.                US        109830.0   \n",
              "3       4  Schwarz Unternehmenstreuhand KG           Germany         94448.0   \n",
              "4       5   Walgreens Boots Alliance, Inc.                US         89631.0   \n",
              "..    ...                              ...               ...             ...   \n",
              "745   246  American Eagle Outfitters, Inc.                US          3796.0   \n",
              "746   247                  Coop Sverige AB            Sweden          3764.0   \n",
              "747   248                Heiwado Co., Ltd.             Japan          3743.0   \n",
              "748   249              Magazine Luiza S.A.            Brazil          3735.0   \n",
              "749   250            The Golub Corporation                US          3700.0   \n",
              "\n",
              "     parent_company_revenue  parent_company_net_income  \\\n",
              "0                  482130.0                    15080.0   \n",
              "1                  116199.0                     2409.0   \n",
              "2                  109830.0                     2049.0   \n",
              "3                   94448.0                        NaN   \n",
              "4                  103444.0                     4279.0   \n",
              "..                      ...                        ...   \n",
              "745                  3796.0                      204.0   \n",
              "746                  3764.0                        2.0   \n",
              "747                  3931.0                       86.0   \n",
              "748                  3752.0                      122.0   \n",
              "749                  3700.0                        NaN   \n",
              "\n",
              "            dominant_operational_format  countries_of_operation  \\\n",
              "0    Hypermarket/Supercenter/Superstore                      30   \n",
              "1           Cash & Carry/Warehouse Club                      10   \n",
              "2                           Supermarket                       1   \n",
              "3                        Discount Store                      26   \n",
              "4                   Drug Store/Pharmacy                      10   \n",
              "..                                  ...                     ...   \n",
              "745          Apparel/Footwear Specialty                      31   \n",
              "746                         Supermarket                       1   \n",
              "747  Hypermarket/Supercenter/Superstore                       2   \n",
              "748                     Other Specialty                       1   \n",
              "749                         Supermarket                       1   \n",
              "\n",
              "     retail_revenue_cagr  year  \n",
              "0                  0.027  2017  \n",
              "1                  0.083  2017  \n",
              "2                  0.060  2017  \n",
              "3                  0.074  2017  \n",
              "4                  0.059  2017  \n",
              "..                   ...   ...  \n",
              "745                0.018  2019  \n",
              "746                  NaN  2019  \n",
              "747                0.023  2019  \n",
              "748                0.111  2019  \n",
              "749                0.012  2019  \n",
              "\n",
              "[750 rows x 10 columns]"
            ],
            "text/html": [
              "\n",
              "  <div id=\"df-2f53f4ed-1068-4513-a4b5-7c0babd8dd7c\">\n",
              "    <div class=\"colab-df-container\">\n",
              "      <div>\n",
              "<style scoped>\n",
              "    .dataframe tbody tr th:only-of-type {\n",
              "        vertical-align: middle;\n",
              "    }\n",
              "\n",
              "    .dataframe tbody tr th {\n",
              "        vertical-align: top;\n",
              "    }\n",
              "\n",
              "    .dataframe thead th {\n",
              "        text-align: right;\n",
              "    }\n",
              "</style>\n",
              "<table border=\"1\" class=\"dataframe\">\n",
              "  <thead>\n",
              "    <tr style=\"text-align: right;\">\n",
              "      <th></th>\n",
              "      <th>rank</th>\n",
              "      <th>name</th>\n",
              "      <th>country_of_origin</th>\n",
              "      <th>retail_revenue</th>\n",
              "      <th>parent_company_revenue</th>\n",
              "      <th>parent_company_net_income</th>\n",
              "      <th>dominant_operational_format</th>\n",
              "      <th>countries_of_operation</th>\n",
              "      <th>retail_revenue_cagr</th>\n",
              "      <th>year</th>\n",
              "    </tr>\n",
              "  </thead>\n",
              "  <tbody>\n",
              "    <tr>\n",
              "      <th>0</th>\n",
              "      <td>1</td>\n",
              "      <td>Wal-Mart Stores, Inc.</td>\n",
              "      <td>US</td>\n",
              "      <td>482130.0</td>\n",
              "      <td>482130.0</td>\n",
              "      <td>15080.0</td>\n",
              "      <td>Hypermarket/Supercenter/Superstore</td>\n",
              "      <td>30</td>\n",
              "      <td>0.027</td>\n",
              "      <td>2017</td>\n",
              "    </tr>\n",
              "    <tr>\n",
              "      <th>1</th>\n",
              "      <td>2</td>\n",
              "      <td>Costco Wholesale Corporation</td>\n",
              "      <td>US</td>\n",
              "      <td>116199.0</td>\n",
              "      <td>116199.0</td>\n",
              "      <td>2409.0</td>\n",
              "      <td>Cash &amp; Carry/Warehouse Club</td>\n",
              "      <td>10</td>\n",
              "      <td>0.083</td>\n",
              "      <td>2017</td>\n",
              "    </tr>\n",
              "    <tr>\n",
              "      <th>2</th>\n",
              "      <td>3</td>\n",
              "      <td>The Kroger Co.</td>\n",
              "      <td>US</td>\n",
              "      <td>109830.0</td>\n",
              "      <td>109830.0</td>\n",
              "      <td>2049.0</td>\n",
              "      <td>Supermarket</td>\n",
              "      <td>1</td>\n",
              "      <td>0.060</td>\n",
              "      <td>2017</td>\n",
              "    </tr>\n",
              "    <tr>\n",
              "      <th>3</th>\n",
              "      <td>4</td>\n",
              "      <td>Schwarz Unternehmenstreuhand KG</td>\n",
              "      <td>Germany</td>\n",
              "      <td>94448.0</td>\n",
              "      <td>94448.0</td>\n",
              "      <td>NaN</td>\n",
              "      <td>Discount Store</td>\n",
              "      <td>26</td>\n",
              "      <td>0.074</td>\n",
              "      <td>2017</td>\n",
              "    </tr>\n",
              "    <tr>\n",
              "      <th>4</th>\n",
              "      <td>5</td>\n",
              "      <td>Walgreens Boots Alliance, Inc.</td>\n",
              "      <td>US</td>\n",
              "      <td>89631.0</td>\n",
              "      <td>103444.0</td>\n",
              "      <td>4279.0</td>\n",
              "      <td>Drug Store/Pharmacy</td>\n",
              "      <td>10</td>\n",
              "      <td>0.059</td>\n",
              "      <td>2017</td>\n",
              "    </tr>\n",
              "    <tr>\n",
              "      <th>...</th>\n",
              "      <td>...</td>\n",
              "      <td>...</td>\n",
              "      <td>...</td>\n",
              "      <td>...</td>\n",
              "      <td>...</td>\n",
              "      <td>...</td>\n",
              "      <td>...</td>\n",
              "      <td>...</td>\n",
              "      <td>...</td>\n",
              "      <td>...</td>\n",
              "    </tr>\n",
              "    <tr>\n",
              "      <th>745</th>\n",
              "      <td>246</td>\n",
              "      <td>American Eagle Outfitters, Inc.</td>\n",
              "      <td>US</td>\n",
              "      <td>3796.0</td>\n",
              "      <td>3796.0</td>\n",
              "      <td>204.0</td>\n",
              "      <td>Apparel/Footwear Specialty</td>\n",
              "      <td>31</td>\n",
              "      <td>0.018</td>\n",
              "      <td>2019</td>\n",
              "    </tr>\n",
              "    <tr>\n",
              "      <th>746</th>\n",
              "      <td>247</td>\n",
              "      <td>Coop Sverige AB</td>\n",
              "      <td>Sweden</td>\n",
              "      <td>3764.0</td>\n",
              "      <td>3764.0</td>\n",
              "      <td>2.0</td>\n",
              "      <td>Supermarket</td>\n",
              "      <td>1</td>\n",
              "      <td>NaN</td>\n",
              "      <td>2019</td>\n",
              "    </tr>\n",
              "    <tr>\n",
              "      <th>747</th>\n",
              "      <td>248</td>\n",
              "      <td>Heiwado Co., Ltd.</td>\n",
              "      <td>Japan</td>\n",
              "      <td>3743.0</td>\n",
              "      <td>3931.0</td>\n",
              "      <td>86.0</td>\n",
              "      <td>Hypermarket/Supercenter/Superstore</td>\n",
              "      <td>2</td>\n",
              "      <td>0.023</td>\n",
              "      <td>2019</td>\n",
              "    </tr>\n",
              "    <tr>\n",
              "      <th>748</th>\n",
              "      <td>249</td>\n",
              "      <td>Magazine Luiza S.A.</td>\n",
              "      <td>Brazil</td>\n",
              "      <td>3735.0</td>\n",
              "      <td>3752.0</td>\n",
              "      <td>122.0</td>\n",
              "      <td>Other Specialty</td>\n",
              "      <td>1</td>\n",
              "      <td>0.111</td>\n",
              "      <td>2019</td>\n",
              "    </tr>\n",
              "    <tr>\n",
              "      <th>749</th>\n",
              "      <td>250</td>\n",
              "      <td>The Golub Corporation</td>\n",
              "      <td>US</td>\n",
              "      <td>3700.0</td>\n",
              "      <td>3700.0</td>\n",
              "      <td>NaN</td>\n",
              "      <td>Supermarket</td>\n",
              "      <td>1</td>\n",
              "      <td>0.012</td>\n",
              "      <td>2019</td>\n",
              "    </tr>\n",
              "  </tbody>\n",
              "</table>\n",
              "<p>750 rows × 10 columns</p>\n",
              "</div>\n",
              "      <button class=\"colab-df-convert\" onclick=\"convertToInteractive('df-2f53f4ed-1068-4513-a4b5-7c0babd8dd7c')\"\n",
              "              title=\"Convert this dataframe to an interactive table.\"\n",
              "              style=\"display:none;\">\n",
              "        \n",
              "  <svg xmlns=\"http://www.w3.org/2000/svg\" height=\"24px\"viewBox=\"0 0 24 24\"\n",
              "       width=\"24px\">\n",
              "    <path d=\"M0 0h24v24H0V0z\" fill=\"none\"/>\n",
              "    <path d=\"M18.56 5.44l.94 2.06.94-2.06 2.06-.94-2.06-.94-.94-2.06-.94 2.06-2.06.94zm-11 1L8.5 8.5l.94-2.06 2.06-.94-2.06-.94L8.5 2.5l-.94 2.06-2.06.94zm10 10l.94 2.06.94-2.06 2.06-.94-2.06-.94-.94-2.06-.94 2.06-2.06.94z\"/><path d=\"M17.41 7.96l-1.37-1.37c-.4-.4-.92-.59-1.43-.59-.52 0-1.04.2-1.43.59L10.3 9.45l-7.72 7.72c-.78.78-.78 2.05 0 2.83L4 21.41c.39.39.9.59 1.41.59.51 0 1.02-.2 1.41-.59l7.78-7.78 2.81-2.81c.8-.78.8-2.07 0-2.86zM5.41 20L4 18.59l7.72-7.72 1.47 1.35L5.41 20z\"/>\n",
              "  </svg>\n",
              "      </button>\n",
              "      \n",
              "  <style>\n",
              "    .colab-df-container {\n",
              "      display:flex;\n",
              "      flex-wrap:wrap;\n",
              "      gap: 12px;\n",
              "    }\n",
              "\n",
              "    .colab-df-convert {\n",
              "      background-color: #E8F0FE;\n",
              "      border: none;\n",
              "      border-radius: 50%;\n",
              "      cursor: pointer;\n",
              "      display: none;\n",
              "      fill: #1967D2;\n",
              "      height: 32px;\n",
              "      padding: 0 0 0 0;\n",
              "      width: 32px;\n",
              "    }\n",
              "\n",
              "    .colab-df-convert:hover {\n",
              "      background-color: #E2EBFA;\n",
              "      box-shadow: 0px 1px 2px rgba(60, 64, 67, 0.3), 0px 1px 3px 1px rgba(60, 64, 67, 0.15);\n",
              "      fill: #174EA6;\n",
              "    }\n",
              "\n",
              "    [theme=dark] .colab-df-convert {\n",
              "      background-color: #3B4455;\n",
              "      fill: #D2E3FC;\n",
              "    }\n",
              "\n",
              "    [theme=dark] .colab-df-convert:hover {\n",
              "      background-color: #434B5C;\n",
              "      box-shadow: 0px 1px 3px 1px rgba(0, 0, 0, 0.15);\n",
              "      filter: drop-shadow(0px 1px 2px rgba(0, 0, 0, 0.3));\n",
              "      fill: #FFFFFF;\n",
              "    }\n",
              "  </style>\n",
              "\n",
              "      <script>\n",
              "        const buttonEl =\n",
              "          document.querySelector('#df-2f53f4ed-1068-4513-a4b5-7c0babd8dd7c button.colab-df-convert');\n",
              "        buttonEl.style.display =\n",
              "          google.colab.kernel.accessAllowed ? 'block' : 'none';\n",
              "\n",
              "        async function convertToInteractive(key) {\n",
              "          const element = document.querySelector('#df-2f53f4ed-1068-4513-a4b5-7c0babd8dd7c');\n",
              "          const dataTable =\n",
              "            await google.colab.kernel.invokeFunction('convertToInteractive',\n",
              "                                                     [key], {});\n",
              "          if (!dataTable) return;\n",
              "\n",
              "          const docLinkHtml = 'Like what you see? Visit the ' +\n",
              "            '<a target=\"_blank\" href=https://colab.research.google.com/notebooks/data_table.ipynb>data table notebook</a>'\n",
              "            + ' to learn more about interactive tables.';\n",
              "          element.innerHTML = '';\n",
              "          dataTable['output_type'] = 'display_data';\n",
              "          await google.colab.output.renderOutput(dataTable, element);\n",
              "          const docLink = document.createElement('div');\n",
              "          docLink.innerHTML = docLinkHtml;\n",
              "          element.appendChild(docLink);\n",
              "        }\n",
              "      </script>\n",
              "    </div>\n",
              "  </div>\n",
              "  "
            ]
          },
          "metadata": {},
          "execution_count": 19
        }
      ]
    },
    {
      "cell_type": "code",
      "source": [
        "total = df.pivot_table(index='name', values='retail_revenue', aggfunc=sum)\n",
        "sorted = total.sort_values(by=['retail_revenue'], ascending=False)\n",
        "a= sorted.head(10)\n",
        "a.plot.bar()"
      ],
      "metadata": {
        "id": "dBh69jl-GBXr",
        "colab": {
          "base_uri": "https://localhost:8080/",
          "height": 449
        },
        "outputId": "98fe4d0b-5c3a-4cd3-f34d-3684a5f366e4"
      },
      "execution_count": 34,
      "outputs": [
        {
          "output_type": "execute_result",
          "data": {
            "text/plain": [
              "<matplotlib.axes._subplots.AxesSubplot at 0x7f834e76a790>"
            ]
          },
          "metadata": {},
          "execution_count": 34
        },
        {
          "output_type": "display_data",
          "data": {
            "text/plain": [
              "<Figure size 432x288 with 1 Axes>"
            ],
            "image/png": "[encoded data removed]"
          },
          "metadata": {
            "needs_background": "light"
          }
        }
      ]
    },
    {
      "cell_type": "markdown",
      "source": [
        "We can conclude that according to the data, Walmart was the brand that earned the most revenue during the years 2017-2019"
      ],
      "metadata": {
        "id": "Q3zp27YA_1eq"
      }
    }
  ]
}